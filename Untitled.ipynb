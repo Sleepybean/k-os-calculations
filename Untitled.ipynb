{
 "cells": [
  {
   "cell_type": "code",
   "execution_count": 54,
   "metadata": {},
   "outputs": [
    {
     "data": {
      "image/png": "[encoded data removed]",
      "text/plain": [
       "<matplotlib.figure.Figure at 0x1b6d5a43da0>"
      ]
     },
     "metadata": {},
     "output_type": "display_data"
    }
   ],
   "source": [
    "import csv\n",
    "import cmath as math\n",
    "from matplotlib import pyplot as plt\n",
    "\n",
    "# Set up constant variables\n",
    "ship_mass = 477.49999165535 # kg\n",
    "spec_gas_const = 286.9 # J / (kg * k)\n",
    "crossArea = math.pi/4 * 0.625**2.0\n",
    "\n",
    "# Initialize readin variables\n",
    "time = []\n",
    "altitude = []\n",
    "velocity = []\n",
    "acceleration = []\n",
    "pressure = []\n",
    "temperature = []\n",
    "gravity = []\n",
    "density = []\n",
    "\n",
    "# Read in values for variables\n",
    "\n",
    "with open('mylog.csv','r') as mylog:\n",
    "    csv_reader = csv.DictReader(mylog)\n",
    "    \n",
    "    next(csv_reader)\n",
    "    \n",
    "    for line in csv_reader:\n",
    "        time.append(float(line['time']))\n",
    "        altitude.append(float(line['altitude']))\n",
    "        velocity.append(float(line['velocity']))\n",
    "        acceleration.append(float(line['acc']))\n",
    "        gravity.append(float(line['grav']))\n",
    "        pressure.append(float(line['pres']))\n",
    "        temperature.append(float(line['temp']))\n",
    "        \n",
    "    time_zero = time[0]\n",
    "        \n",
    "    for its in range(len(time)):\n",
    "        time[its] = time[its] - time_zero\n",
    "        density.append(pressure[its] / (temperature[its] * spec_gas_const))\n",
    "\n",
    "        \n",
    "# Do work with the values.\n",
    "#     density = pressure / temperature\n",
    "\n",
    "plt.plot(pressure,velocity)\n",
    "plt.xlabel('pressure (kPa)')\n",
    "plt.ylabel('Velocity (m/s)')\n",
    "plt.show()"
   ]
  },
  {
   "cell_type": "code",
   "execution_count": null,
   "metadata": {
    "collapsed": true
   },
   "outputs": [],
   "source": []
  }
 ],
 "metadata": {
  "kernelspec": {
   "display_name": "Python 3",
   "language": "python",
   "name": "python3"
  },
  "language_info": {
   "codemirror_mode": {
    "name": "ipython",
    "version": 3
   },
   "file_extension": ".py",
   "mimetype": "text/x-python",
   "name": "python",
   "nbconvert_exporter": "python",
   "pygments_lexer": "ipython3",
   "version": "3.6.3"
  }
 },
 "nbformat": 4,
 "nbformat_minor": 2
}
