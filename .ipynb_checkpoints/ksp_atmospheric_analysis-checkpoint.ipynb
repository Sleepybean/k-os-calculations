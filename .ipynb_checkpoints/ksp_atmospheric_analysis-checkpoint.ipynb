{
 "cells": [
  {
   "cell_type": "code",
   "execution_count": 75,
   "metadata": {
    "scrolled": true
   },
   "outputs": [
    {
     "data": {
      "image/png": "[encoded data removed]",
      "text/plain": [
       "<matplotlib.figure.Figure at 0x2ade035fd30>"
      ]
     },
     "metadata": {},
     "output_type": "display_data"
    },
    {
     "name": "stdout",
     "output_type": "stream",
     "text": [
      "8427\n"
     ]
    }
   ],
   "source": [
    "import csv\n",
    "import random\n",
    "import cmath as math\n",
    "import matplotlib.pyplot as plt\n",
    "from matplotlib import style\n",
    "\n",
    "# Set up constant variables\n",
    "ship_mass = 477.49999165535 # kg\n",
    "spec_gas_const = 286.9 # J / (kg * k)\n",
    "crossArea = math.pi/4 * 0.625**2.0\n",
    "body_mu = 3.5315984*10**12 # m^3/s^2\n",
    "\n",
    "# Initialize readin variables\n",
    "time = []\n",
    "altitude = []\n",
    "velocity = []\n",
    "acceleration = []\n",
    "pressure = []\n",
    "temperature = []\n",
    "gravity = []\n",
    "density = []\n",
    "dragForce = []\n",
    "gravity = []\n",
    "dragCoefficient = []\n",
    "\n",
    "# Read in values for variables\n",
    "\n",
    "with open('mylog.csv','r') as mylog:\n",
    "    csv_reader = csv.DictReader(mylog)\n",
    "    \n",
    "    next(csv_reader)\n",
    "    \n",
    "    for line in csv_reader:\n",
    "        time.append(float(line['time']))\n",
    "        altitude.append(float(line['altitude']))\n",
    "        velocity.append(float(line['velocity']))\n",
    "        acceleration.append(float(line['acc']))\n",
    "        gravity.append(float(line['grav']))\n",
    "        pressure.append(float(line['pres']))\n",
    "        temperature.append(float(line['temp']))\n",
    "        \n",
    "time_zero = time[0]\n",
    "\n",
    "for its in range(len(time)):\n",
    "    time[its] = time[its] - time_zero\n",
    "    density.append(pressure[its] / (temperature[its] * spec_gas_const))\n",
    "    dragForce.append(ship_mass * (gravity[its] - acceleration[its]))\n",
    "    if density[its] * velocity[its] > 0:\n",
    "        dragCoefficient.append(2 * dragForce[its] / (density[its] * velocity[its] * crossArea))\n",
    "    else:\n",
    "        dragCoefficient.append(1)\n",
    "        \n",
    "    \n",
    "\n",
    "\n",
    "fig = plt.figure()\n",
    "\n",
    "# add_subplot syntax:\n",
    "ax1 = fig.add_subplot(221)\n",
    "ax2 = fig.add_subplot(222)\n",
    "ax3 = fig.add_subplot(212)\n",
    "\n",
    "# x,y = create_plots()\n",
    "# ax1.plot(x,y)\n",
    "\n",
    "ax1.plot(pressure, velocity)\n",
    "ax1.set_xlabel('pressure (kPa)')\n",
    "ax1.set_ylabel('Velocity (m/s)')\n",
    "ax1.set_title('Velocity Vs. Pressure')\n",
    "\n",
    "ax2.plot(gravity, altitude)\n",
    "ax2.set_xlabel('gravity (m/s^2)')\n",
    "ax2.set_ylabel('Altitude (m)')\n",
    "ax2.set_title('Altitude vs. Gravity')\n",
    "\n",
    "ax3.plot(velocity[1000:8000], dragCoefficient[1000:8000])\n",
    "# ax3.set_ylabel('Force Drag (N)')\n",
    "# ax3.set_xlabel('Density (kg/m^3)')\n",
    "# ax3.set_title('density versus drag force')\n",
    "\n",
    "plt.show()\n",
    "print(len(time))\n"
   ]
  },
  {
   "cell_type": "code",
   "execution_count": null,
   "metadata": {
    "collapsed": true
   },
   "outputs": [],
   "source": []
  }
 ],
 "metadata": {
  "kernelspec": {
   "display_name": "Python 3",
   "language": "python",
   "name": "python3"
  },
  "language_info": {
   "codemirror_mode": {
    "name": "ipython",
    "version": 3
   },
   "file_extension": ".py",
   "mimetype": "text/x-python",
   "name": "python",
   "nbconvert_exporter": "python",
   "pygments_lexer": "ipython3",
   "version": "3.6.3"
  }
 },
 "nbformat": 4,
 "nbformat_minor": 2
}
